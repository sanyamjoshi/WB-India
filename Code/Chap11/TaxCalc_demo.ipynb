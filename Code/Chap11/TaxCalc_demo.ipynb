{
 "cells": [
  {
   "cell_type": "markdown",
   "metadata": {},
   "source": [
    "# Tax-Calculator Demo\n",
    "This notebook provides a demo of the `Tax-Calculator` micro-simulation model.  The goal is to show some of the inputs and outputs of this model to provide and understanding of what the foundation is for the tax functions that are used in the OG model.\n",
    "\n",
    "#### Getting Started\n",
    "To use this notebook, you will need the `Tax-Calculator` package (in addition to a number of packages that will come standard with the Anaconda distribution of Python).  To get `Tax-Calculator`, open your Anaconda command prompt (Windows) or terminal window (Mac).  From here, type\n",
    "\n",
    "```\n",
    "conda install -c ospc taxcalc\n",
    "```"
   ]
  },
  {
   "cell_type": "code",
   "execution_count": null,
   "metadata": {},
   "outputs": [],
   "source": [
    "# imports\n",
    "from taxcalc import *\n",
    "from bokeh.io import show, output_notebook, save, output_file\n",
    "output_notebook()"
   ]
  },
  {
   "cell_type": "code",
   "execution_count": null,
   "metadata": {},
   "outputs": [],
   "source": [
    "# Initiate baseline calculator\n",
    "rec = Records.cps_constructor()\n",
    "pol = Policy()\n",
    "calc1 = Calculator(policy=pol, records=rec)\n",
    "calc1.advance_to_year(2018)\n",
    "calc1.calc_all()"
   ]
  },
  {
   "cell_type": "code",
   "execution_count": null,
   "metadata": {},
   "outputs": [],
   "source": [
    "# Look at some of data\n",
    "df = calc1.dataframe(['s006', 'e00200p', 'e00900'])\n",
    "df.describe()"
   ]
  },
  {
   "cell_type": "markdown",
   "metadata": {},
   "source": [
    "## Specifying a reform policy\n",
    "\n",
    "The baseline in `Tax-Calculator` is a current-law baseline.  You can specify your reforms in a JSON file and, using the read_json_param_objects method, create a dictionary containing both policy reforms and behavioral assumptions\n",
    "The policy reform and any behavioral assumptions need to be in separate JSON files. Save the policy reforms and the behvaioral assumptions and call them whatever you want and update the snippet below."
   ]
  },
  {
   "cell_type": "code",
   "execution_count": null,
   "metadata": {},
   "outputs": [],
   "source": [
    "reforms = calc1.read_json_param_objects('2017_law.json', None)\n",
    "reforms"
   ]
  },
  {
   "cell_type": "code",
   "execution_count": null,
   "metadata": {},
   "outputs": [],
   "source": [
    "# Inititate calculator to apply reforms to\n",
    "recs2 = Records.cps_constructor()\n",
    "pol2 = Policy()\n",
    "pol2.implement_reform(reforms['policy'])\n",
    "calc2 = Calculator(policy=pol2, records=recs2)\n",
    "calc2.advance_to_year(2018)\n",
    "calc2.calc_all()"
   ]
  },
  {
   "cell_type": "markdown",
   "metadata": {},
   "source": [
    "### Behavioral responses\n",
    "\n",
    "A dictionary is also used to implement behavioral reforms. The only difference is you must then pass the baseline and reform calculators into the response method of the behavioral class. This method calculates the change in tax liabilities and then, using the specified elasticities, returns a new calculator object that accounts for any behavioral change."
   ]
  },
  {
   "cell_type": "code",
   "execution_count": null,
   "metadata": {
    "collapsed": true
   },
   "outputs": [],
   "source": [
    "# Specify come behavior\n",
    "revised_behavior = {\n",
    "            2018: {'_BE_inc': [-0.3]},\n",
    "            2018: {'_BE_sub': [0.2]}\n",
    "            }"
   ]
  },
  {
   "cell_type": "code",
   "execution_count": null,
   "metadata": {
    "collapsed": true
   },
   "outputs": [],
   "source": [
    "behavior = Behavior()\n",
    "behavior.update_behavior(revised_behavior)"
   ]
  },
  {
   "cell_type": "markdown",
   "metadata": {},
   "source": [
    "### Revenue Estimates\n",
    "\n",
    "We can compute a \"truly static\" revenue estimate by not using this behavior.  Here's an estimate of the revenue under the baseline and policy for one year."
   ]
  },
  {
   "cell_type": "code",
   "execution_count": null,
   "metadata": {},
   "outputs": [],
   "source": [
    "# calculate reform income tax liabilities for year = cyr\n",
    "cyr = 2018\n",
    "calc1.advance_to_year(cyr)\n",
    "calc1.calc_all()\n",
    "itax_rev1 = calc1.weighted_total('iitax')\n",
    "calc2.advance_to_year(cyr)\n",
    "calc2.calc_all()\n",
    "itax_rev2 = calc2.weighted_total('iitax')\n",
    "\n",
    "# print total revenue estimates for cyr\n",
    "# (estimates in billons of dollars rounded to nearest hundredth of a billion)\n",
    "print(cyr, ' Current Law IIT Revenue ($B)= {:.2f}'.format(itax_rev1 * 1e-9))\n",
    "print(cyr, ' Reform Policy IIT Revenue ($B)= {:.2f}'.format(itax_rev2 * 1e-9))"
   ]
  },
  {
   "cell_type": "markdown",
   "metadata": {},
   "source": [
    "### Viewing the results\n",
    "\n",
    "You can use built in methods to get MTR and ATR plots. Each one is returned as a simple Bokeh figure that you can then add to as desired"
   ]
  },
  {
   "cell_type": "code",
   "execution_count": null,
   "metadata": {},
   "outputs": [],
   "source": [
    "mtr_plot_data = calc1.mtr_graph(calc2, mars=2,\n",
    "                                mtr_measure='itax',\n",
    "                                mtr_variable='e00200p',\n",
    "                                alt_e00200p_text='Wages and Salaries',\n",
    "                                mtr_wrt_full_compen=False,\n",
    "                                income_measure='agi',\n",
    "                                dollar_weighting=False)\n",
    "output_file(filename='wage_mtrs.html')\n",
    "save(mtr_plot_data)\n",
    "show(mtr_plot_data)"
   ]
  },
  {
   "cell_type": "code",
   "execution_count": null,
   "metadata": {},
   "outputs": [],
   "source": [
    "mtr_plot_data = calc1.mtr_graph(calc2, mars=2,\n",
    "                                mtr_measure='itax',\n",
    "                                mtr_variable='e00900p', \n",
    "                                alt_e00200p_text='Proprietorship Income',\n",
    "                                mtr_wrt_full_compen=False,\n",
    "                                income_measure='agi',\n",
    "                                dollar_weighting=False)\n",
    "output_file(filename='SchC_mtrs.html')\n",
    "save(mtr_plot_data)\n",
    "show(mtr_plot_data)"
   ]
  },
  {
   "cell_type": "markdown",
   "metadata": {},
   "source": [
    "### Moving around over the budget window\n",
    "\n",
    "The above plots were for 2018, the first year we ran the model for.  We can move the model forward in the budget window and look at outcomes in a different year."
   ]
  },
  {
   "cell_type": "code",
   "execution_count": null,
   "metadata": {
    "collapsed": true
   },
   "outputs": [],
   "source": [
    "calc1.advance_to_year(2020)\n",
    "calc2.advance_to_year(2020)"
   ]
  },
  {
   "cell_type": "code",
   "execution_count": null,
   "metadata": {
    "collapsed": true
   },
   "outputs": [],
   "source": [
    "mtr_plot_data = calc1.mtr_graph(calc2, mars=2,\n",
    "                                mtr_measure='itax',\n",
    "                                mtr_variable='e00900p', \n",
    "                                alt_e00200p_text='Proprietorship Income',\n",
    "                                mtr_wrt_full_compen=False,\n",
    "                                income_measure='agi',\n",
    "                                dollar_weighting=False)\n",
    "output_file(filename='SchC_mtrs_2020.html')\n",
    "save(mtr_plot_data)\n",
    "show(mtr_plot_data)"
   ]
  },
  {
   "cell_type": "code",
   "execution_count": null,
   "metadata": {},
   "outputs": [],
   "source": [
    "# Plot the average tax rate\n",
    "atr_plot_data = calc1.atr_graph(calc2, mars=2,\n",
    "                                atr_measure='combined')\n",
    "output_file(filename='ATRs_2020.html')\n",
    "save(atr_plot_data)\n",
    "show(atr_plot_data)"
   ]
  },
  {
   "cell_type": "code",
   "execution_count": null,
   "metadata": {},
   "outputs": [],
   "source": [
    "fig = calc1.pch_graph(calc2)\n",
    "show(fig)"
   ]
  },
  {
   "cell_type": "markdown",
   "metadata": {},
   "source": [
    "### Multiyear difference table\n",
    "The multiyear differences table function displays the difference between your baseline and refoms. You can group the results by weighted decile, decile, income bin, or age. The default is income bin."
   ]
  },
  {
   "cell_type": "code",
   "execution_count": null,
   "metadata": {},
   "outputs": [],
   "source": [
    "calc1.diagnostic_table(num_years=2)"
   ]
  },
  {
   "cell_type": "code",
   "execution_count": null,
   "metadata": {},
   "outputs": [],
   "source": [
    "dist1, dist2 = calc1.distribution_tables(calc2, 'weighted_deciles')\n",
    "dist1"
   ]
  },
  {
   "cell_type": "code",
   "execution_count": null,
   "metadata": {},
   "outputs": [],
   "source": [
    "calc1.mtr('e00200p')\n"
   ]
  },
  {
   "cell_type": "code",
   "execution_count": null,
   "metadata": {},
   "outputs": [],
   "source": [
    "calc1.mtr('e00200p')[0]-calc2.mtr('e00200p')[0]"
   ]
  },
  {
   "cell_type": "code",
   "execution_count": null,
   "metadata": {
    "collapsed": true
   },
   "outputs": [],
   "source": []
  }
 ],
 "metadata": {
  "kernelspec": {
   "display_name": "Python 3",
   "language": "python",
   "name": "python3"
  },
  "language_info": {
   "codemirror_mode": {
    "name": "ipython",
    "version": 3
   },
   "file_extension": ".py",
   "mimetype": "text/x-python",
   "name": "python",
   "nbconvert_exporter": "python",
   "pygments_lexer": "ipython3",
   "version": "3.6.3"
  }
 },
 "nbformat": 4,
 "nbformat_minor": 2
}
